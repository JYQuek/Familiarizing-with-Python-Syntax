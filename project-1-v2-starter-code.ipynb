{
 "cells": [
  {
   "cell_type": "markdown",
   "metadata": {},
   "source": [
    "<img src=\"http://imgur.com/1ZcRyrc.png\" style=\"float: left; margin: 15px; height: 80px\">\n",
    "\n",
    "# Project 1\n",
    "\n",
    "### Building \"Pokemon Stay\"\n",
    "\n",
    "---\n",
    "You are an analyst at a \"scrappy\" online gaming company that specializes in remakes of last year's fads.\n",
    "\n",
    "Your boss, who runs the product development team, is convinced that Pokemon Go's fatal flaw was that you had to actually move around outside. She has design mock-ups for a new game called Pokemon Stay: in this version players still need to move, but just from website to website. Pokemon gyms are now popular online destinations, and catching Pokemon in the \"wild\" simply requires browsing the internet for hours in the comfort of your home.\n",
    "\n",
    "She wants you to program a prototype version of the game, and analyze the planned content to help the team calibrate the design."
   ]
  },
  {
   "cell_type": "markdown",
   "metadata": {},
   "source": [
    "#### Package imports\n",
    "\n",
    "The pprint package below is the only package imported here, and it's not even strictly required to do any of the project. Printing python variables and objects with pprint can help to format them in a \"prettier\" way."
   ]
  },
  {
   "cell_type": "code",
   "execution_count": 1,
   "metadata": {},
   "outputs": [],
   "source": [
    "from pprint import pprint"
   ]
  },
  {
   "cell_type": "markdown",
   "metadata": {},
   "source": [
    "<img src=\"http://imgur.com/l5NasQj.png\" style=\"float: left; margin: 25px 15px 0px 0px; height: 25px\">\n",
    "\n",
    "## 1. Defining a player\n",
    "\n",
    "---\n",
    "\n",
    "The player variables are:\n",
    "\n",
    "    player_id : id code unique to each player (integer)\n",
    "    player_name : entered name of the player (string)\n",
    "    time_played : number of time played the game in minutes (float)\n",
    "    player_pokemon: the player's captured pokemon (dictionary)\n",
    "    gyms_visited: ids of the gyms that a player has visited (list)\n",
    "    \n",
    "Create the components for a player object by defining each of these variables. The dictionary and list variables should just be defined as empty; you can use any (correctly typed) values for the others."
   ]
  },
  {
   "cell_type": "code",
   "execution_count": 2,
   "metadata": {},
   "outputs": [],
   "source": [
    "# Defining variables for the player object\n",
    "player_id = 1\n",
    "player_name = \"PokemonMaster\"\n",
    "time_played = 20.0\n",
    "player_pokemon = {}\n",
    "gyms_visited = []"
   ]
  },
  {
   "cell_type": "markdown",
   "metadata": {},
   "source": [
    "<img src=\"http://imgur.com/l5NasQj.png\" style=\"float: left; margin: 25px 15px 0px 0px; height: 25px\">\n",
    "\n",
    "## 2. Defining \"gym\" locations\n",
    "\n",
    "---\n",
    "\n",
    "As the sole programmer, Pokemon Stay will have to start small. To begin, there will be 10 different gym location websites on the internet. The gym locations are:\n",
    "\n",
    "    1. 'reddit.com'\n",
    "    2. 'amazon.com'\n",
    "    3. 'twitter.com'\n",
    "    4. 'linkedin.com'\n",
    "    5. 'ebay.com'\n",
    "    6. 'netflix.com'\n",
    "    7. 'sporcle.com'\n",
    "    8. 'stackoverflow.com'\n",
    "    9. 'github.com'\n",
    "    10. 'quora.com'\n",
    "\n",
    "1. Set up a list of all the gym locations. This will be a list of strings.\n",
    "2. Append two of these locations to your player's list of visited gyms.\n",
    "3. Print the list."
   ]
  },
  {
   "cell_type": "code",
   "execution_count": 3,
   "metadata": {},
   "outputs": [
    {
     "name": "stdout",
     "output_type": "stream",
     "text": [
      "['reddit.com', 'amazon.com']\n"
     ]
    }
   ],
   "source": [
    "#List of gym locations\n",
    "pokemon_gyms = ['reddit.com','amazon.com','twitter.com','linkedin.com','ebay.com','netflix.com','sporcle.com','stackoverflow.com','github.com','quora.com']\n",
    "\n",
    "#Append two locations to player's list of visited gyms\n",
    "gyms_visited.append(pokemon_gyms[0])\n",
    "gyms_visited.append(pokemon_gyms[1])\n",
    "\n",
    "print(gyms_visited)"
   ]
  },
  {
   "cell_type": "markdown",
   "metadata": {},
   "source": [
    "<img src=\"http://imgur.com/l5NasQj.png\" style=\"float: left; margin: 25px 15px 0px 0px; height: 25px\">\n",
    "\n",
    "## 3. Create a pokedex\n",
    "\n",
    "---\n",
    "\n",
    "We also need to create some pokemon to catch. Each pokemon will be defined by these variables:\n",
    "\n",
    "    pokemon_id : unique identifier for each pokemon (integer)\n",
    "    name : the name of the pokemon (string)\n",
    "    type : the category of pokemon (string)\n",
    "    hp : base hitpoints (integer)\n",
    "    attack : base attack (integer)\n",
    "    defense : base defense (integer)\n",
    "    special_attack : base special attack (integer)\n",
    "    special_defense : base sepecial defense (integer)\n",
    "    speed : base speed (integer)\n",
    "\n",
    "We are only going to create 3 different pokemon with these `pokemon_id` and `pokemon_name` values:\n",
    "\n",
    "    1 : 'charmander'\n",
    "    2 : 'squirtle'\n",
    "    3 : 'bulbasaur'\n",
    "\n",
    "Create a dictionary that will contain the pokemon. The keys of the dictionary will be the `pokemon_id` and the values will themselves dictionaries that contain the other pokemon variables. The structure of the pokedex dictionary will start like so:\n",
    "     \n",
    "     {\n",
    "         1: {\n",
    "                 'name':'charmander',\n",
    "                 'type':'fire',\n",
    "                 ...\n",
    "                 \n",
    "The `type` of charmander, squirtle, and bulbasaur should be `'fire'`, `'water'`, and `'poison'` respectively. The other values are up to you, make them anything you like!\n",
    "\n",
    "Print (or pretty print) the pokedex dictionary with the 3 pokemon."
   ]
  },
  {
   "cell_type": "code",
   "execution_count": 4,
   "metadata": {},
   "outputs": [
    {
     "name": "stdout",
     "output_type": "stream",
     "text": [
      "{1: {'attack': 98,\n",
      "     'defense': 81,\n",
      "     'hp': 188,\n",
      "     'name': 'charmander',\n",
      "     'special_attack': 112,\n",
      "     'special_defense': 94,\n",
      "     'speed': 121,\n",
      "     'type': 'fire'},\n",
      " 2: {'attack': 90,\n",
      "     'defense': 121,\n",
      "     'hp': 198,\n",
      "     'name': 'squirtle',\n",
      "     'special_attack': 94,\n",
      "     'special_defense': 119,\n",
      "     'speed': 81,\n",
      "     'type': 'water'},\n",
      " 3: {'attack': 92,\n",
      "     'defense': 92,\n",
      "     'hp': 200,\n",
      "     'name': 'bulbasaur',\n",
      "     'special_attack': 121,\n",
      "     'special_defense': 121,\n",
      "     'speed': 85,\n",
      "     'type': 'poison'}}\n"
     ]
    }
   ],
   "source": [
    "# Create Pokedex for 3 Pokemons\n",
    "pokedex = {1:{'name':'charmander', 'type':'fire', 'hp': 188, 'attack':98, 'defense':81, 'special_attack':112, 'special_defense':94, 'speed':121}, 2: {'name':'squirtle', 'type':'water', 'hp': 198, 'attack':90, 'defense':121, 'special_attack':94, 'special_defense':119, 'speed':81}, 3: {'name':'bulbasaur', 'type':'poison', 'hp': 200, 'attack':92, 'defense':92, 'special_attack':121, 'special_defense':121, 'speed':85}}\n",
    "\n",
    "# Pretty Print Pokedex Dictionary\n",
    "pprint(pokedex)"
   ]
  },
  {
   "cell_type": "markdown",
   "metadata": {},
   "source": [
    "<img src=\"http://imgur.com/l5NasQj.png\" style=\"float: left; margin: 25px 15px 0px 0px; height: 25px\">\n",
    "\n",
    "## 4. Create a data structure for players\n",
    "\n",
    "---\n",
    "\n",
    "### 4.1 \n",
    "\n",
    "In order to maintain a database of multiple players, create a dictionary that keeps track of players indexed by `player_id`. \n",
    "\n",
    "The keys of the dictionary will be `player_id` and values will be dictionaries containing each player's variables (from question 1). \n",
    "\n",
    "Construct the `players` dictionary and insert the player that you defined in question 1, then print `players`."
   ]
  },
  {
   "cell_type": "code",
   "execution_count": 5,
   "metadata": {},
   "outputs": [
    {
     "name": "stdout",
     "output_type": "stream",
     "text": [
      "{1: {'player_name': 'PokemonMaster', 'time_played': 20.0, 'player_pokemon': {}, 'gyms_visited': ['reddit.com', 'amazon.com']}}\n"
     ]
    }
   ],
   "source": [
    "# Create players dictionary & Insert player in question 1\n",
    "player_set = [player_id,{'player_name':player_name, 'time_played':time_played, 'player_pokemon':player_pokemon, 'gyms_visited':gyms_visited}]\n",
    "\n",
    "all_players_set = []\n",
    "all_players_set.append(player_set)\n",
    "players = dict(all_players_set)\n",
    "\n",
    "# Print players\n",
    "print(players)\n"
   ]
  },
  {
   "cell_type": "markdown",
   "metadata": {},
   "source": [
    "---\n",
    "\n",
    "### 4.2\n",
    "\n",
    "Create a new player with `player_id = 2` in the `players` dictionary. Leave the `'player_pokemon'` dictionary empty. Append `'alcatraz'` and `'pacific_beach'` to the `'gyms_visited'` list for player 2.\n",
    "\n",
    "The `'player_name'` and `'time_played'` values are up to you, but must be a string and float, respectively.\n",
    "\n",
    "Remember, the player_id is the key for the player in the players dictionary.\n",
    "\n",
    "Print the `players` dictionary with the new player inserted."
   ]
  },
  {
   "cell_type": "code",
   "execution_count": 6,
   "metadata": {},
   "outputs": [
    {
     "name": "stdout",
     "output_type": "stream",
     "text": [
      "{1: {'player_name': 'PokemonMaster', 'time_played': 20.0, 'player_pokemon': {}, 'gyms_visited': ['reddit.com', 'amazon.com']}, 2: {'player_name': 'PokemonGuru', 'time_played': 30.5, 'player_pokemon': {}, 'gyms_visited': ['alcatraz', 'pacific_beach']}}\n"
     ]
    }
   ],
   "source": [
    "#Defining Player 2's variables\n",
    "player_id = 2\n",
    "player_name = \"PokemonGuru\"\n",
    "time_played = 30.5\n",
    "player_pokemon = {}\n",
    "gyms_visited = []\n",
    "\n",
    "#Append two locations to player's list of visited gyms\n",
    "gyms_visited.append('alcatraz')\n",
    "gyms_visited.append('pacific_beach')\n",
    "\n",
    "# Update players dictionary for Player 2\n",
    "player_set = [player_id,{'player_name':player_name, 'time_played':time_played, 'player_pokemon':player_pokemon, 'gyms_visited':gyms_visited}]\n",
    "\n",
    "all_players_set.append(player_set)\n",
    "players = dict(all_players_set)\n",
    "\n",
    "# Print players\n",
    "print(players)\n"
   ]
  },
  {
   "cell_type": "markdown",
   "metadata": {},
   "source": [
    "<img src=\"http://imgur.com/l5NasQj.png\" style=\"float: left; margin: 25px 15px 0px 0px; height: 25px\">\n",
    "\n",
    "## 5. Add captured pokemon for each player\n",
    "\n",
    "---\n",
    "\n",
    "The `'player_pokemon'` keyed dictionaries for each player keep track of which of the pokemon each player has.\n",
    "\n",
    "The keys of the `'player_pokemon'` dictionaries are the pokemon ids that correspond to the ids in the `pokedex` dictionary you created earlier. The values are integers specifying the stats for the pokemon.\n",
    "\n",
    "Give player 1 a squirtle. Give player 2 charmander and a bulbasaur.\n",
    "\n",
    "Print the players dictionary after adding the pokemon for each player.\n"
   ]
  },
  {
   "cell_type": "code",
   "execution_count": 7,
   "metadata": {},
   "outputs": [
    {
     "data": {
      "text/plain": [
       "{1: {'player_name': 'PokemonMaster',\n",
       "  'time_played': 20.0,\n",
       "  'player_pokemon': {2: [198, 90, 121, 94, 119, 81]},\n",
       "  'gyms_visited': ['reddit.com', 'amazon.com']},\n",
       " 2: {'player_name': 'PokemonGuru',\n",
       "  'time_played': 30.5,\n",
       "  'player_pokemon': {1: [188, 98, 81, 112, 94, 121],\n",
       "   3: [200, 92, 92, 121, 121, 85]},\n",
       "  'gyms_visited': ['alcatraz', 'pacific_beach']}}"
      ]
     },
     "execution_count": 7,
     "metadata": {},
     "output_type": "execute_result"
    }
   ],
   "source": [
    "def assign_pokemon(playerid,pokemonid):\n",
    "    players[playerid]['player_pokemon'][pokemonid] = [pokedex[pokemonid]['hp'],pokedex[pokemonid]['attack'],pokedex[pokemonid]['defense'],pokedex[pokemonid]['special_attack'],pokedex[pokemonid]['special_defense'],pokedex[pokemonid]['speed']]\n",
    "\n",
    "# Give player 1 a squirtle. player's id is 1 and squirtle's pokemon id is 2\n",
    "assign_pokemon(1,2)\n",
    "\n",
    "# Give player 2 a charmander. player's id is 2 and charmander's pokemon id is 1\n",
    "assign_pokemon(2,1)\n",
    "\n",
    "# Give player 2 a charmander. player's id is 2 and charmander's pokemon id is 3\n",
    "assign_pokemon(2,3)\n",
    "\n",
    "# Check players dictionary\n",
    "players\n"
   ]
  },
  {
   "cell_type": "markdown",
   "metadata": {},
   "source": [
    "\n",
    "\n",
    "## 6. What gyms have players visited?\n",
    "\n",
    "---\n",
    "<img src=\"http://imgur.com/l5NasQj.png\" style=\"float: left; margin: 25px 15px 0px 0px; height: 25px\">\n",
    "### 6.1\n",
    "\n",
    "Write a for-loop that:\n",
    "\n",
    "1. Iterates through the `pokemon_gyms` list of gym locations you defined before.\n",
    "2. For each gym, iterate through each player in the `players` dictionary with a second, internal for-loop.\n",
    "3. If the player has visited the gym, print out \"[player] has visited [gym location].\", filling in [player] and [gym location] with the current player's name and current gym location."
   ]
  },
  {
   "cell_type": "code",
   "execution_count": 8,
   "metadata": {},
   "outputs": [
    {
     "name": "stdout",
     "output_type": "stream",
     "text": [
      "PokemonMaster has visited reddit.com\n",
      "PokemonMaster has visited amazon.com\n"
     ]
    }
   ],
   "source": [
    "# Iterate through pokemon_gyms\n",
    "for gym in pokemon_gyms:\n",
    "\n",
    "# Iterate through nested players dictionary\n",
    "    for key,value in players.items():\n",
    "\n",
    "# Adding if condition for gyms_visited\n",
    "        if gym in players[key]['gyms_visited']:\n",
    "            print('{}{}{}'.format(players[key]['player_name'],\" has visited \",gym))\n"
   ]
  },
  {
   "cell_type": "markdown",
   "metadata": {},
   "source": [
    "<img src=\"http://imgur.com/xDpSobf.png\" style=\"float: left; margin: 25px 15px 0px 0px; height: 25px\">\n",
    "### 6.2\n",
    "\n",
    "How many times did that loop run? If you have N gyms and also N players, how many times would it run as a function of N?\n",
    "\n",
    "Can you think of a more efficient way to accomplish the same thing? \n",
    "\n",
    "(You can write your answer as Markdown text.)"
   ]
  },
  {
   "cell_type": "code",
   "execution_count": 9,
   "metadata": {},
   "outputs": [
    {
     "name": "stdout",
     "output_type": "stream",
     "text": [
      "20\n"
     ]
    }
   ],
   "source": [
    "# Finding number of loops ran\n",
    "\n",
    "count_of_loops = 0\n",
    "\n",
    "for gym in pokemon_gyms:\n",
    "    for key,value in players.items():\n",
    "        count_of_loops += 1\n",
    "        if gym in players[key]['gyms_visited']:\n",
    "            None\n",
    "\n",
    "print(count_of_loops)\n"
   ]
  },
  {
   "cell_type": "markdown",
   "metadata": {},
   "source": [
    "\n",
    "\n",
    "### Answer\n",
    "\n",
    "When iterating through multiple lists, it loops through the number of items in _list A_, multiplied by the number of items in _list B_, multiplied by the number of items in _list C_, etc. \n",
    "\n",
    "Hence, if there are N gyms and also N players, the loop will run N * N times.\n",
    "\n",
    "\n"
   ]
  },
  {
   "cell_type": "markdown",
   "metadata": {},
   "source": [
    "<img src=\"http://imgur.com/l5NasQj.png\" style=\"float: left; margin: 25px 15px 0px 0px; height: 25px\">\n",
    "\n",
    "## 7. Calculate player \"power\".\n",
    "\n",
    "---\n",
    "\n",
    "Define a function that will calculate a player's \"power\". Player power is defined as the sum of the base statistics all of their pokemon.\n",
    "\n",
    "Your function will:\n",
    "\n",
    "1. Accept the `players` dictionary, `pokedex` dictionary, and a player_id as arguments.\n",
    "2. For the specified player_id, look up that player's pokemon and their level(s).\n",
    "3. Find and aggregate the attack and defense values for each of the player's pokemon from the `pokedex` dictionary.\n",
    "4. Print \"[player name]'s power is [player power].\", where the player power is the sum of the base statistics for all of their pokemon.\n",
    "5. Return the player's power value.\n",
    "\n",
    "Print out the pokemon power for each of your players."
   ]
  },
  {
   "cell_type": "code",
   "execution_count": 10,
   "metadata": {},
   "outputs": [
    {
     "name": "stdout",
     "output_type": "stream",
     "text": [
      "PokemonGuru's power is 363\n"
     ]
    }
   ],
   "source": [
    "def power(players_dict,pokedex_dict,playerid):\n",
    "    \n",
    "    try:\n",
    "\n",
    "# Retrieve all the pokemons the player owns\n",
    "        playerpokemon = (players_dict[playerid]['player_pokemon']).keys()\n",
    "    \n",
    "# Iterate through the pokemons owned by the player to check if it exists in the pokedex\n",
    "# If it exists in the pokedex, retrieve the attack and defense stats\n",
    "        pokemonpower = []\n",
    "        for items in playerpokemon:\n",
    "            if items in pokedex.keys():\n",
    "                pokemonpower.append(pokedex[items]['attack'] + pokedex[items]['defense'])        \n",
    "\n",
    "# Print out the sum of all the attack and defense stats of the players pokemons, which is the player's power \n",
    "        print('{}{}{}'.format(players_dict[playerid]['player_name'],\"'s power is \",sum(pokemonpower)))\n",
    "\n",
    "# For player IDs that do not exist, print out error message    \n",
    "    except KeyError:\n",
    "        print('Player does not exist')\n",
    "\n",
    "power(players,pokedex,2)\n"
   ]
  },
  {
   "cell_type": "markdown",
   "metadata": {
    "collapsed": true
   },
   "source": [
    "<img src=\"http://imgur.com/l5NasQj.png\" style=\"float: left; margin: 25px 15px 0px 0px; height: 25px\">\n",
    "\n",
    "## 8. Load a pokedex file containing all the pokemon\n",
    "\n",
    "---\n",
    "\n",
    "### 8.1\n",
    "\n",
    "While you were putting together the prototype code, your colleagues were preparing a dataset of Pokemon and their attributes. (This was a rush job, so they may have picked some crazy values for some...)\n",
    "\n",
    "The code below loads information from a comma separated value (csv) file. You need to parse this string into a more useable format. The format of the string is:\n",
    "\n",
    "- Rows are separated by newline characters: \\n\n",
    "- Columns are separated by commas: ,\n",
    "- All cells in the csv are double quoted. Ex: \"PokedexNumber\" is the first cell of the first row.\n",
    "\n",
    "\n",
    "Using for-loops, create a list of lists where each list within the overall list is a row of the csv/matrix, and each element in that list is a cell in that row. Additional criteria:\n",
    "\n",
    "1. Quotes are removed from each cell item.\n",
    "2. Numeric column values are converted to floats.\n",
    "3. There are some cells that are empty and have no information. For these cells put a -1 value in place.\n",
    "\n",
    "Your end result is effectively a matrix. Each list in the outer list is a row, and the *j*th elements of list together form the *j*th column, which represents a data attribute. The first three lists in your pokedex list should look like this:\n",
    "\n",
    "    ['PokedexNumber', 'Name', 'Type', 'Total', 'HP', 'Attack', 'Defense', 'SpecialAttack', 'SpecialDefense', 'Speed']\n",
    "    [1.0, 'Bulbasaur', 'GrassPoison', 318.0, 45.0, 49.0, 49.0, 65.0, 65.0, 45.0]\n",
    "    [2.0, 'Ivysaur', 'GrassPoison', 405.0, 60.0, 62.0, 63.0, 80.0, 80.0, 60.0]"
   ]
  },
  {
   "cell_type": "code",
   "execution_count": 11,
   "metadata": {},
   "outputs": [],
   "source": [
    "# Code to read in pokedex info\n",
    "raw_pd = ''\n",
    "pokedex_file = 'pokedex_basic.csv'\n",
    "with open(pokedex_file, 'r') as f:\n",
    "    raw_pd = f.read()\n",
    "    \n",
    "# the pokedex string is assigned to the raw_pd variable"
   ]
  },
  {
   "cell_type": "code",
   "execution_count": 12,
   "metadata": {},
   "outputs": [],
   "source": [
    "# Cleaning Step 1: Split the data into the different lines\n",
    "clean1 = raw_pd.splitlines()"
   ]
  },
  {
   "cell_type": "code",
   "execution_count": 13,
   "metadata": {},
   "outputs": [],
   "source": [
    "# Clearning Step 2: Remove the quote marks from data\n",
    "cleaned2 = [(line.replace('\"','')).split(',') for line in clean1]"
   ]
  },
  {
   "cell_type": "code",
   "execution_count": 14,
   "metadata": {},
   "outputs": [],
   "source": [
    "# Cleaning Step 3: Converting numeric values in data to float\n",
    "\n",
    "cleaned3 = []\n",
    "\n",
    "for row in cleaned2:\n",
    "    cleaned2 = []\n",
    "    for cell in row:\n",
    "        try:\n",
    "            cleaned2.append(float(cell))\n",
    "        except ValueError:\n",
    "            cleaned2.append(cell)\n",
    "    cleaned3.append(cleaned2)\n",
    "\n",
    "clean1 = raw_pd.splitlines()"
   ]
  },
  {
   "cell_type": "code",
   "execution_count": 15,
   "metadata": {},
   "outputs": [],
   "source": [
    "# Check whether there are missing values in the data,\n",
    "# by checking if the length of each sublist is equal to the number of headers\n",
    "for rows in cleaned3:\n",
    "    if len(row) != len(cleaned3[0]):\n",
    "        print (\"There is missing value in the data\")"
   ]
  },
  {
   "cell_type": "code",
   "execution_count": 16,
   "metadata": {},
   "outputs": [],
   "source": [
    "# Assigning the cleaned data to variable cleanedfinal\n",
    "cleanedfinal = cleaned3"
   ]
  },
  {
   "cell_type": "markdown",
   "metadata": {},
   "source": [
    "<img src=\"http://imgur.com/l5NasQj.png\" style=\"float: left; margin: 25px 15px 0px 0px; height: 25px\">\n",
    "\n",
    "## 9. Write a function to generate the full pokedex\n",
    "\n",
    "---\n",
    "\n",
    "Write a function that recreates the pokedex you made before, but with the data read in from the full pokemon file. The `PokedexNumber` should be used as the `pokemon_id` key values for the dictionary of pokemon.\n",
    "\n",
    "Your function should:\n",
    "\n",
    "1. Take the parsed pokedex information you created above as an argument.\n",
    "2. Return a dictionary in the same format as your original pokedex you created before containing the information from the parsed full pokedex file.\n",
    "\n",
    "To test the function, print out the pokemon with id = 100."
   ]
  },
  {
   "cell_type": "code",
   "execution_count": 19,
   "metadata": {
    "scrolled": true
   },
   "outputs": [
    {
     "data": {
      "text/plain": [
       "800"
      ]
     },
     "execution_count": 19,
     "metadata": {},
     "output_type": "execute_result"
    }
   ],
   "source": [
    "cleanedfinal_pokemon_id_list = []\n",
    "for pokemon in cleanedfinal[1:]:\n",
    "    cleanedfinal_pokemon_id_list.append(pokemon[0])\n",
    "\n",
    "len(cleanedfinal_pokemon_id_list)\n",
    "\n",
    "# There are 800 items in cleanedfinal_pokemon_id_list, however the ID only runs till 721. \n",
    "# Hence, there must be some repeated pokemon ids. We should not use this list"
   ]
  },
  {
   "cell_type": "code",
   "execution_count": 20,
   "metadata": {},
   "outputs": [],
   "source": [
    "# Create function \n",
    "\n",
    "def create_pokedex(pokemoninfo):\n",
    "    \n",
    "# First, craete a list of floats from 1 to 800 to be used as the new pokemon IDs\n",
    "    cleanedfinal_pokemon_id_list = list(range(1,801))\n",
    "    \n",
    "# Second, separate out the pokemon values into its own nested list\n",
    "    cleanedfinal_pokemon_values_list = []\n",
    "    for pokemon in cleanedfinal[1:]:\n",
    "        cleanedfinal_pokemon_values_list.append(pokemon[1:])\n",
    "    # print(cleanedfinal_pokemon_values_list)\n",
    "    \n",
    "# Create the list of headers withouth Pokedex number\n",
    "    cleanedfinal_pokemon_header_list = (cleanedfinal[0])[1:]\n",
    "    # print(cleanedfinal_pokemon_header_list)\n",
    "    \n",
    "# Make a list of dictionaries for the pokemon values\n",
    "    cleanedfinal_pokemon_values_dict = []\n",
    "    for pokemon in cleanedfinal_pokemon_values_list:\n",
    "        cleanedfinal_pokemon_values_dict.append(dict(zip(cleanedfinal_pokemon_header_list,pokemon)))\n",
    "    # print(cleanedfinal_pokemon_values_dict)\n",
    "        \n",
    "# Match the pokemon ID to the pokemon values dictionary\n",
    "    return dict(zip(cleanedfinal_pokemon_id_list,cleanedfinal_pokemon_values_dict))\n"
   ]
  },
  {
   "cell_type": "code",
   "execution_count": 21,
   "metadata": {},
   "outputs": [
    {
     "data": {
      "text/plain": [
       "{'Name': 'Gastly',\n",
       " 'Type': 'GhostPoison',\n",
       " 'Total': 310.0,\n",
       " 'HP': 30.0,\n",
       " 'Attack': 35.0,\n",
       " 'Defense': 30.0,\n",
       " 'SpecialAttack': 100.0,\n",
       " 'SpecialDefense': 35.0,\n",
       " 'Speed': 80.0}"
      ]
     },
     "execution_count": 21,
     "metadata": {},
     "output_type": "execute_result"
    }
   ],
   "source": [
    "# Test the function by printing out pokemon with id = 100\n",
    "\n",
    "create_pokedex(cleanedfinal)[100]"
   ]
  },
  {
   "cell_type": "markdown",
   "metadata": {
    "collapsed": true
   },
   "source": [
    "\n",
    "## 9. Descriptive statistics on the prototype pokedex\n",
    "\n",
    "<img src=\"http://imgur.com/l5NasQj.png\" style=\"float: left; margin: 25px 15px 0px 0px; height: 25px\">\n",
    "### 9.1\n",
    "\n",
    "What is the population mean and standard deviation of the \"Total\" attribute for all characters in the Pokedex?\n",
    "\n"
   ]
  },
  {
   "cell_type": "code",
   "execution_count": 22,
   "metadata": {},
   "outputs": [],
   "source": [
    "import numpy as np"
   ]
  },
  {
   "cell_type": "code",
   "execution_count": 23,
   "metadata": {},
   "outputs": [],
   "source": [
    "# Retrieve \"Total\" attribute values for all pokemons as a list\n",
    "\n",
    "pokemon_total_list = []\n",
    "\n",
    "for pokemon in cleanedfinal[1:]:\n",
    "    pokemon_total_list.append(pokemon[3])\n"
   ]
  },
  {
   "cell_type": "code",
   "execution_count": 24,
   "metadata": {},
   "outputs": [
    {
     "name": "stdout",
     "output_type": "stream",
     "text": [
      "Population mean is 435.1275\n"
     ]
    }
   ],
   "source": [
    "# Calculate population mean\n",
    "\n",
    "print('{}{}'.format(\"Population mean is \",np.mean(pokemon_total_list)))"
   ]
  },
  {
   "cell_type": "code",
   "execution_count": 25,
   "metadata": {},
   "outputs": [
    {
     "name": "stdout",
     "output_type": "stream",
     "text": [
      "Population standard deviation is 119.96202000529168\n"
     ]
    }
   ],
   "source": [
    "# Calculate population standard deviation\n",
    "\n",
    "print('{}{}'.format(\"Population standard deviation is \",np.std(pokemon_total_list)))"
   ]
  },
  {
   "cell_type": "markdown",
   "metadata": {},
   "source": [
    "<img src=\"http://imgur.com/l5NasQj.png\" style=\"float: left; margin: 25px 15px 0px 0px; height: 25px\">\n",
    "### 9.2\n",
    "\n",
    "The game is no fun if the characters are wildly unbalanced! Are any characters \"overpowered\", which we'll define as having a \"Total\" more than three standard deviations from the population mean?"
   ]
  },
  {
   "cell_type": "code",
   "execution_count": 26,
   "metadata": {},
   "outputs": [
    {
     "name": "stdout",
     "output_type": "stream",
     "text": [
      "There are overpowered pokemons\n",
      "No. of overpowered pokemons: 1\n"
     ]
    }
   ],
   "source": [
    "# Check if there are overpowered pokemons, and the number of overpowered pokemons\n",
    "\n",
    "count_of_overpowered = 0 \n",
    "for total in pokemon_total_list:\n",
    "    if total > (np.mean(pokemon_total_list)+3*np.std(pokemon_total_list)):\n",
    "        count_of_overpowered +=1\n",
    "        print(\"There are overpowered pokemons\")\n",
    "\n",
    "print('{}{}'.format(\"No. of overpowered pokemons: \",count_of_overpowered))"
   ]
  },
  {
   "cell_type": "code",
   "execution_count": 27,
   "metadata": {},
   "outputs": [
    {
     "name": "stdout",
     "output_type": "stream",
     "text": [
      "Overpowered Pokemon:  MewtwoMega Mewtwo X\n"
     ]
    }
   ],
   "source": [
    "# Find the name of the overpowered pokemon\n",
    "\n",
    "pokedex_created = create_pokedex(cleanedfinal)\n",
    "\n",
    "for key,value in pokedex_created.items():\n",
    "    if value['Total'] > (np.mean(pokemon_total_list)+3*np.std(pokemon_total_list)):\n",
    "        print(\"Overpowered Pokemon: \",value['Name'])"
   ]
  }
 ],
 "metadata": {
  "anaconda-cloud": {},
  "kernelspec": {
   "display_name": "Python 3",
   "language": "python",
   "name": "python3"
  },
  "language_info": {
   "codemirror_mode": {
    "name": "ipython",
    "version": 3
   },
   "file_extension": ".py",
   "mimetype": "text/x-python",
   "name": "python",
   "nbconvert_exporter": "python",
   "pygments_lexer": "ipython3",
   "version": "3.6.8"
  }
 },
 "nbformat": 4,
 "nbformat_minor": 1
}
